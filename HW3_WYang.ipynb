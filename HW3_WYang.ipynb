{
  "nbformat": 4,
  "nbformat_minor": 0,
  "metadata": {
    "colab": {
      "provenance": []
    },
    "kernelspec": {
      "name": "python3",
      "display_name": "Python 3"
    },
    "language_info": {
      "name": "python"
    }
  },
  "cells": [
    {
      "cell_type": "code",
      "source": [
        "from sklearn.datasets import load_wine\n",
        "wine = load_wine()"
      ],
      "metadata": {
        "id": "0LyKf4hAMh7U"
      },
      "execution_count": null,
      "outputs": []
    },
    {
      "cell_type": "code",
      "execution_count": null,
      "metadata": {
        "id": "GEVrZv2sLdGH"
      },
      "outputs": [],
      "source": [
        "import numpy as np\n",
        "import matplotlib.pyplot as plt\n",
        "from sklearn.decomposition import PCA\n",
        "from sklearn.preprocessing import StandardScaler"
      ]
    },
    {
      "cell_type": "code",
      "source": [
        "# Load the wine data\n",
        "wine = load_wine()\n",
        "df = wine"
      ],
      "metadata": {
        "id": "90Zy60TOM1l-"
      },
      "execution_count": null,
      "outputs": []
    },
    {
      "cell_type": "code",
      "source": [
        "# Standardize the data\n",
        "scaler = StandardScaler()\n",
        "wine_scaled = scaler.fit_transform(wine.data)"
      ],
      "metadata": {
        "id": "TweiRyoLL_HV"
      },
      "execution_count": null,
      "outputs": []
    },
    {
      "cell_type": "code",
      "source": [
        "# Apply PCA\n",
        "pca = PCA(n_components=2)\n",
        "wine_pca = pca.fit_transform(wine_scaled)"
      ],
      "metadata": {
        "id": "yBMr-UXWN53d"
      },
      "execution_count": null,
      "outputs": []
    },
    {
      "cell_type": "code",
      "source": [
        "# Plot the first two principle components using matplotlib's scatter function, \n",
        "# with different colors for each target/class of wine.\n",
        "colors = ['red', 'green', 'blue']\n",
        "target_names = wine.target_names"
      ],
      "metadata": {
        "id": "hgIBv1XmN8Ba"
      },
      "execution_count": null,
      "outputs": []
    },
    {
      "cell_type": "code",
      "source": [
        "for target, color in zip(np.unique(wine.target), colors):\n",
        "    plt.scatter(wine_pca[wine.target == target, 0], \n",
        "                wine_pca[wine.target == target, 1], \n",
        "                c=color, \n",
        "                label=target_names[target])\n",
        "    \n",
        "# Label the x-axis as 'First Principal Component' \n",
        "# Label the y-axis as 'Second Principal Component' \n",
        "# Add a legend to show the class of each wine\n",
        "plt.xlabel('First Principal Component')\n",
        "plt.ylabel('Second Principal Component')\n",
        "plt.title(\"First two principal component after scaling\")\n",
        "plt.legend(loc='best')\n",
        "\n",
        "# Display the plot\n",
        "plt.tight_layout()\n",
        "plt.show()    "
      ],
      "metadata": {
        "colab": {
          "base_uri": "https://localhost:8080/",
          "height": 297
        },
        "id": "cwLtgSBJN8D9",
        "outputId": "914c8714-2b5c-4ff5-c6b6-1dd6fe0caec6"
      },
      "execution_count": null,
      "outputs": [
        {
          "output_type": "display_data",
          "data": {
            "text/plain": [
              "<Figure size 432x288 with 1 Axes>"
            ],
            "image/png": "[encoded data removed]"
          },
          "metadata": {
            "needs_background": "light"
          }
        }
      ]
    }
  ]
}